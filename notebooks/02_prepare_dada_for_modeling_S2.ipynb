{
 "cells": [
  {
   "cell_type": "code",
   "execution_count": 12,
   "id": "3d1096cb-700a-4ccb-a21a-165ac2566240",
   "metadata": {},
   "outputs": [],
   "source": [
    "import sys  \n",
    "sys.path.insert(0, '../src')\n",
    "import utils as ut\n",
    "import rasterio as rs\n",
    "from rasterio.windows import from_bounds\n",
    "import numpy as np\n",
    "import pandas as pd\n",
    "\n",
    "import os, sys, warnings\n",
    "from tqdm import tqdm"
   ]
  },
  {
   "cell_type": "code",
   "execution_count": 13,
   "id": "6e54cd20-28ce-4f75-966c-376f96c6982c",
   "metadata": {},
   "outputs": [
    {
     "name": "stdout",
     "output_type": "stream",
     "text": [
      "The autoreload extension is already loaded. To reload it, use:\n",
      "  %reload_ext autoreload\n"
     ]
    }
   ],
   "source": [
    "%load_ext autoreload\n",
    "%autoreload 2"
   ]
  },
  {
   "cell_type": "code",
   "execution_count": 14,
   "id": "ef571ba3-50ce-4306-8b43-7afa1d5e81de",
   "metadata": {},
   "outputs": [
    {
     "name": "stdout",
     "output_type": "stream",
     "text": [
      "Populating the interactive namespace from numpy and matplotlib\n"
     ]
    }
   ],
   "source": [
    "%pylab inline\n",
    "plt.style.use(\"bmh\")"
   ]
  },
  {
   "cell_type": "code",
   "execution_count": 15,
   "id": "332baa85-e8eb-4253-b2a8-2a298a3fa420",
   "metadata": {},
   "outputs": [],
   "source": [
    "pd.set_option('display.float_format', lambda x: '%.5f' % x)"
   ]
  },
  {
   "cell_type": "code",
   "execution_count": 16,
   "id": "8c898849-9f83-465e-bc15-b6e23a14cc7b",
   "metadata": {},
   "outputs": [],
   "source": [
    "warnings.filterwarnings(\"ignore\", category=UserWarning)\n",
    "warnings.filterwarnings(\"ignore\", category=RuntimeWarning)"
   ]
  },
  {
   "cell_type": "code",
   "execution_count": 17,
   "id": "952d5480-1d69-4652-84ee-c70a84cfc6be",
   "metadata": {},
   "outputs": [],
   "source": [
    "data_path = '../features/'"
   ]
  },
  {
   "cell_type": "code",
   "execution_count": 18,
   "id": "fc71a20f-ab55-4a2f-874c-67429cdb9fdf",
   "metadata": {},
   "outputs": [
    {
     "data": {
      "text/plain": [
       "['../features/p03_stack_ee.tif',\n",
       " '../features/p02_stack_ee.tif',\n",
       " '../features/p04_stack_ee.tif',\n",
       " '../features/p01_stack_ee.tif']"
      ]
     },
     "execution_count": 18,
     "metadata": {},
     "output_type": "execute_result"
    }
   ],
   "source": [
    "patches_imgs = ut.list_files_with_absolute_paths(data_path,endswith='stack_ee.tif')\n",
    "patches_imgs"
   ]
  },
  {
   "cell_type": "code",
   "execution_count": 19,
   "id": "092af763-e058-4f1c-854e-b31e77aa987d",
   "metadata": {},
   "outputs": [],
   "source": [
    "col_names = ['ndvi','ndre','evi','sbi','gvi','wet','satvi','ndmi',\"lulc\", \"blue\", \"green\",\"red\",\"red_e1\",\"red_e2\",\"red_e3\",\"nir1\",\"swir1\",\"swir2\",\"nir2\"]"
   ]
  },
  {
   "cell_type": "markdown",
   "id": "843584bd-cbaf-4e0a-b03d-104250b70e85",
   "metadata": {},
   "source": [
    "# Prepare training data"
   ]
  },
  {
   "cell_type": "code",
   "execution_count": 20,
   "id": "ffc5c0dc-464a-4f5b-9576-39c9f4eae065",
   "metadata": {},
   "outputs": [
    {
     "data": {
      "text/plain": [
       "['../features/p02_stack_ee.tif',\n",
       " '../features/p04_stack_ee.tif',\n",
       " '../features/p01_stack_ee.tif']"
      ]
     },
     "execution_count": 20,
     "metadata": {},
     "output_type": "execute_result"
    }
   ],
   "source": [
    "patches_imgs[-3:]"
   ]
  },
  {
   "cell_type": "code",
   "execution_count": 78,
   "id": "7c20adc8-dcdd-4794-865c-1868f1d4dedf",
   "metadata": {},
   "outputs": [
    {
     "data": {
      "text/plain": [
       "3"
      ]
     },
     "execution_count": 78,
     "metadata": {},
     "output_type": "execute_result"
    }
   ],
   "source": [
    "df_imgs = [pd.DataFrame(rs.open(f'{img}').read().reshape(19,-1).T,columns=col_names) for img in patches_imgs[-3:]]  \n",
    "len(df_imgs)"
   ]
  },
  {
   "cell_type": "code",
   "execution_count": 79,
   "id": "ad10714b-5dda-41f8-b73e-fb7a4dcb1156",
   "metadata": {},
   "outputs": [
    {
     "data": {
      "text/plain": [
       "((4506415, 19),\n",
       " Index(['ndvi', 'ndre', 'evi', 'sbi', 'gvi', 'wet', 'satvi', 'ndmi', 'lulc',\n",
       "        'blue', 'green', 'red', 'red_e1', 'red_e2', 'red_e3', 'nir1', 'swir1',\n",
       "        'swir2', 'nir2'],\n",
       "       dtype='object'))"
      ]
     },
     "execution_count": 79,
     "metadata": {},
     "output_type": "execute_result"
    }
   ],
   "source": [
    "df_all = pd.concat(df_imgs)\n",
    "df_all.shape, df_all.columns"
   ]
  },
  {
   "cell_type": "code",
   "execution_count": 80,
   "id": "be1387ea-f5e9-4de8-b377-fc08960c3100",
   "metadata": {},
   "outputs": [
    {
     "data": {
      "text/html": [
       "<div>\n",
       "<style scoped>\n",
       "    .dataframe tbody tr th:only-of-type {\n",
       "        vertical-align: middle;\n",
       "    }\n",
       "\n",
       "    .dataframe tbody tr th {\n",
       "        vertical-align: top;\n",
       "    }\n",
       "\n",
       "    .dataframe thead th {\n",
       "        text-align: right;\n",
       "    }\n",
       "</style>\n",
       "<table border=\"1\" class=\"dataframe\">\n",
       "  <thead>\n",
       "    <tr style=\"text-align: right;\">\n",
       "      <th></th>\n",
       "      <th>ndvi</th>\n",
       "      <th>ndre</th>\n",
       "      <th>evi</th>\n",
       "      <th>sbi</th>\n",
       "      <th>gvi</th>\n",
       "      <th>wet</th>\n",
       "      <th>satvi</th>\n",
       "      <th>ndmi</th>\n",
       "      <th>lulc</th>\n",
       "      <th>blue</th>\n",
       "      <th>green</th>\n",
       "      <th>red</th>\n",
       "      <th>red_e1</th>\n",
       "      <th>red_e2</th>\n",
       "      <th>red_e3</th>\n",
       "      <th>nir1</th>\n",
       "      <th>swir1</th>\n",
       "      <th>swir2</th>\n",
       "      <th>nir2</th>\n",
       "    </tr>\n",
       "  </thead>\n",
       "  <tbody>\n",
       "    <tr>\n",
       "      <th>1059733</th>\n",
       "      <td>0.78243</td>\n",
       "      <td>0.62744</td>\n",
       "      <td>2.18628</td>\n",
       "      <td>2128.44580</td>\n",
       "      <td>892.74548</td>\n",
       "      <td>-430.02701</td>\n",
       "      <td>-1185.73657</td>\n",
       "      <td>0.70341</td>\n",
       "      <td>24.00000</td>\n",
       "      <td>265.00000</td>\n",
       "      <td>330.00000</td>\n",
       "      <td>211.00000</td>\n",
       "      <td>497.00000</td>\n",
       "      <td>1730.00000</td>\n",
       "      <td>2182.00000</td>\n",
       "      <td>2171.00000</td>\n",
       "      <td>871.00000</td>\n",
       "      <td>378.00000</td>\n",
       "      <td>2372.00000</td>\n",
       "    </tr>\n",
       "    <tr>\n",
       "      <th>1059734</th>\n",
       "      <td>0.79396</td>\n",
       "      <td>0.62939</td>\n",
       "      <td>2.25899</td>\n",
       "      <td>2200.91162</td>\n",
       "      <td>929.11627</td>\n",
       "      <td>-469.61230</td>\n",
       "      <td>-1210.11499</td>\n",
       "      <td>0.67468</td>\n",
       "      <td>24.00000</td>\n",
       "      <td>256.00000</td>\n",
       "      <td>356.00000</td>\n",
       "      <td>211.00000</td>\n",
       "      <td>507.00000</td>\n",
       "      <td>1739.00000</td>\n",
       "      <td>2210.00000</td>\n",
       "      <td>2229.00000</td>\n",
       "      <td>905.00000</td>\n",
       "      <td>433.00000</td>\n",
       "      <td>2421.00000</td>\n",
       "    </tr>\n",
       "    <tr>\n",
       "      <th>1059735</th>\n",
       "      <td>0.80643</td>\n",
       "      <td>0.64031</td>\n",
       "      <td>2.40902</td>\n",
       "      <td>2314.81860</td>\n",
       "      <td>1061.11938</td>\n",
       "      <td>-384.51950</td>\n",
       "      <td>-1190.11182</td>\n",
       "      <td>0.69198</td>\n",
       "      <td>24.00000</td>\n",
       "      <td>259.00000</td>\n",
       "      <td>375.00000</td>\n",
       "      <td>231.00000</td>\n",
       "      <td>530.00000</td>\n",
       "      <td>1788.00000</td>\n",
       "      <td>2186.00000</td>\n",
       "      <td>2417.00000</td>\n",
       "      <td>885.00000</td>\n",
       "      <td>440.00000</td>\n",
       "      <td>2381.00000</td>\n",
       "    </tr>\n",
       "    <tr>\n",
       "      <th>1059736</th>\n",
       "      <td>0.80385</td>\n",
       "      <td>0.62212</td>\n",
       "      <td>2.44157</td>\n",
       "      <td>2325.33228</td>\n",
       "      <td>1026.09802</td>\n",
       "      <td>-479.10431</td>\n",
       "      <td>-1263.08972</td>\n",
       "      <td>0.67966</td>\n",
       "      <td>24.00000</td>\n",
       "      <td>260.00000</td>\n",
       "      <td>331.00000</td>\n",
       "      <td>236.00000</td>\n",
       "      <td>557.00000</td>\n",
       "      <td>1937.00000</td>\n",
       "      <td>2322.00000</td>\n",
       "      <td>2391.00000</td>\n",
       "      <td>991.00000</td>\n",
       "      <td>456.00000</td>\n",
       "      <td>2527.00000</td>\n",
       "    </tr>\n",
       "    <tr>\n",
       "      <th>1059737</th>\n",
       "      <td>0.00000</td>\n",
       "      <td>0.00000</td>\n",
       "      <td>-0.00000</td>\n",
       "      <td>151405.51562</td>\n",
       "      <td>-29071.32617</td>\n",
       "      <td>-9941.65918</td>\n",
       "      <td>-32767.50000</td>\n",
       "      <td>0.00000</td>\n",
       "      <td>24.00000</td>\n",
       "      <td>65535.00000</td>\n",
       "      <td>65535.00000</td>\n",
       "      <td>65535.00000</td>\n",
       "      <td>65535.00000</td>\n",
       "      <td>65535.00000</td>\n",
       "      <td>65535.00000</td>\n",
       "      <td>65535.00000</td>\n",
       "      <td>65535.00000</td>\n",
       "      <td>65535.00000</td>\n",
       "      <td>65535.00000</td>\n",
       "    </tr>\n",
       "  </tbody>\n",
       "</table>\n",
       "</div>"
      ],
      "text/plain": [
       "           ndvi    ndre      evi          sbi          gvi         wet  \\\n",
       "1059733 0.78243 0.62744  2.18628   2128.44580    892.74548  -430.02701   \n",
       "1059734 0.79396 0.62939  2.25899   2200.91162    929.11627  -469.61230   \n",
       "1059735 0.80643 0.64031  2.40902   2314.81860   1061.11938  -384.51950   \n",
       "1059736 0.80385 0.62212  2.44157   2325.33228   1026.09802  -479.10431   \n",
       "1059737 0.00000 0.00000 -0.00000 151405.51562 -29071.32617 -9941.65918   \n",
       "\n",
       "               satvi    ndmi     lulc        blue       green         red  \\\n",
       "1059733  -1185.73657 0.70341 24.00000   265.00000   330.00000   211.00000   \n",
       "1059734  -1210.11499 0.67468 24.00000   256.00000   356.00000   211.00000   \n",
       "1059735  -1190.11182 0.69198 24.00000   259.00000   375.00000   231.00000   \n",
       "1059736  -1263.08972 0.67966 24.00000   260.00000   331.00000   236.00000   \n",
       "1059737 -32767.50000 0.00000 24.00000 65535.00000 65535.00000 65535.00000   \n",
       "\n",
       "             red_e1      red_e2      red_e3        nir1       swir1  \\\n",
       "1059733   497.00000  1730.00000  2182.00000  2171.00000   871.00000   \n",
       "1059734   507.00000  1739.00000  2210.00000  2229.00000   905.00000   \n",
       "1059735   530.00000  1788.00000  2186.00000  2417.00000   885.00000   \n",
       "1059736   557.00000  1937.00000  2322.00000  2391.00000   991.00000   \n",
       "1059737 65535.00000 65535.00000 65535.00000 65535.00000 65535.00000   \n",
       "\n",
       "              swir2        nir2  \n",
       "1059733   378.00000  2372.00000  \n",
       "1059734   433.00000  2421.00000  \n",
       "1059735   440.00000  2381.00000  \n",
       "1059736   456.00000  2527.00000  \n",
       "1059737 65535.00000 65535.00000  "
      ]
     },
     "execution_count": 80,
     "metadata": {},
     "output_type": "execute_result"
    }
   ],
   "source": [
    "df_all.tail()"
   ]
  },
  {
   "cell_type": "code",
   "execution_count": 81,
   "id": "f0203854-22da-4f83-b71f-929a8bcb6fba",
   "metadata": {},
   "outputs": [],
   "source": [
    "df_all.replace([65535,inf,-inf],np.nan,inplace=True)"
   ]
  },
  {
   "cell_type": "code",
   "execution_count": 82,
   "id": "f819329e-cd06-4c7f-a0f6-f38c9c4a44de",
   "metadata": {},
   "outputs": [
    {
     "data": {
      "text/plain": [
       "ndvi         0\n",
       "ndre         0\n",
       "evi        180\n",
       "sbi          0\n",
       "gvi          0\n",
       "wet          0\n",
       "satvi        0\n",
       "ndmi         1\n",
       "lulc         0\n",
       "blue      5842\n",
       "green     5842\n",
       "red       5842\n",
       "red_e1    5842\n",
       "red_e2    5842\n",
       "red_e3    5842\n",
       "nir1      5842\n",
       "swir1     5842\n",
       "swir2     5842\n",
       "nir2      5842\n",
       "dtype: int64"
      ]
     },
     "execution_count": 82,
     "metadata": {},
     "output_type": "execute_result"
    }
   ],
   "source": [
    "df_all.isna().sum()"
   ]
  },
  {
   "cell_type": "code",
   "execution_count": 84,
   "id": "98dcb066-52e0-4951-ac35-8e358e4706f9",
   "metadata": {},
   "outputs": [
    {
     "data": {
      "text/plain": [
       "ndvi      0\n",
       "ndre      0\n",
       "evi       0\n",
       "sbi       0\n",
       "gvi       0\n",
       "wet       0\n",
       "satvi     0\n",
       "ndmi      0\n",
       "lulc      0\n",
       "blue      0\n",
       "green     0\n",
       "red       0\n",
       "red_e1    0\n",
       "red_e2    0\n",
       "red_e3    0\n",
       "nir1      0\n",
       "swir1     0\n",
       "swir2     0\n",
       "nir2      0\n",
       "dtype: int64"
      ]
     },
     "execution_count": 84,
     "metadata": {},
     "output_type": "execute_result"
    }
   ],
   "source": [
    "df_all.dropna(inplace=True)\n",
    "df_all.isna().sum()"
   ]
  },
  {
   "cell_type": "code",
   "execution_count": 85,
   "id": "e3df4764-26b9-467a-b6d6-8bcde9ea08f0",
   "metadata": {},
   "outputs": [],
   "source": [
    "df_all[['lulc', 'blue', 'green', 'red', 'red_e1', 'red_e2', 'red_e3', 'nir1','swir1', 'swir2', 'nir2']]=\\\n",
    "df_all[['lulc', 'blue', 'green', 'red', 'red_e1', 'red_e2', 'red_e3', 'nir1','swir1', 'swir2', 'nir2']].astype('int64')"
   ]
  },
  {
   "cell_type": "code",
   "execution_count": 86,
   "id": "407b000f-c64a-4140-8f03-4a1baa581768",
   "metadata": {},
   "outputs": [
    {
     "data": {
      "text/plain": [
       "25   0.25567\n",
       "12   0.22788\n",
       "24   0.16733\n",
       "29   0.09576\n",
       "21   0.08348\n",
       "36   0.05973\n",
       "18   0.04389\n",
       "23   0.02655\n",
       "20   0.02311\n",
       "35   0.00804\n",
       "3    0.00341\n",
       "2    0.00303\n",
       "41   0.00211\n",
       "Name: lulc, dtype: float64"
      ]
     },
     "execution_count": 86,
     "metadata": {},
     "output_type": "execute_result"
    }
   ],
   "source": [
    "df_all.lulc.value_counts(normalize=True)"
   ]
  },
  {
   "cell_type": "markdown",
   "id": "4689a617-c2e0-46b8-87a6-910751a725d3",
   "metadata": {},
   "source": [
    "`23-24-25-29`: `forest (1)`\\\n",
    "`12`: `Non-irrigated arable land (2)`\\\n",
    "`18-20-21`: `agricultural areas (3)`\\\n",
    "`35-36`: `Wetlands (4)`\\\n",
    "`2-3`: `Urban fabric (5)`\\\n",
    "`41`: `Water bodies (6)`"
   ]
  },
  {
   "cell_type": "code",
   "execution_count": 87,
   "id": "1c28d25c-c9e1-4afc-8221-58a077589831",
   "metadata": {},
   "outputs": [],
   "source": [
    "df_all.lulc.replace([23,24,25,29],23,inplace=True) # forest\n",
    "df_all.lulc.replace([18,20,21],18,inplace=True) # agricultural areas\n",
    "df_all.lulc.replace([35,36],35,inplace=True) # Wetlands\n",
    "df_all.lulc.replace([2,3],2,inplace=True) # Urban fabric"
   ]
  },
  {
   "cell_type": "code",
   "execution_count": 88,
   "id": "9af742e7-68e1-4bdf-8158-d02d7c54dcf5",
   "metadata": {},
   "outputs": [
    {
     "data": {
      "text/plain": [
       "array([23, 35, 12, 18,  2, 41])"
      ]
     },
     "execution_count": 88,
     "metadata": {},
     "output_type": "execute_result"
    }
   ],
   "source": [
    "df_all.lulc.unique()"
   ]
  },
  {
   "cell_type": "code",
   "execution_count": 89,
   "id": "85fbca50-9192-4c22-9248-29e7319fbf73",
   "metadata": {},
   "outputs": [],
   "source": [
    "labels=[23,35,12,18,2,41]\n",
    "codes=[1,2,3,4,5,6]\n",
    "labels_dict = {k:i for i,k in zip(codes,labels)}\n",
    "df_all.lulc = df_all.lulc.map(labels_dict)"
   ]
  },
  {
   "cell_type": "code",
   "execution_count": 90,
   "id": "14273232-4c01-4ca6-82d2-2557ff4220da",
   "metadata": {},
   "outputs": [
    {
     "data": {
      "text/plain": [
       "array([1, 2, 3, 4, 5, 6])"
      ]
     },
     "execution_count": 90,
     "metadata": {},
     "output_type": "execute_result"
    }
   ],
   "source": [
    "df_all.lulc.unique()"
   ]
  },
  {
   "cell_type": "code",
   "execution_count": 91,
   "id": "207ff135-8445-4e29-ac07-42415f599783",
   "metadata": {},
   "outputs": [],
   "source": [
    "df_all.to_parquet('../features/training_data_ee_LULC.parquet')"
   ]
  },
  {
   "cell_type": "code",
   "execution_count": 92,
   "id": "3daf1031-b8a9-4059-b74a-cff8801f3955",
   "metadata": {},
   "outputs": [
    {
     "data": {
      "text/plain": [
       "(4500392, 19)"
      ]
     },
     "execution_count": 92,
     "metadata": {},
     "output_type": "execute_result"
    }
   ],
   "source": [
    "df_all.shape"
   ]
  },
  {
   "cell_type": "markdown",
   "id": "459600c1-cd51-4aa1-b7fb-995e74d14956",
   "metadata": {},
   "source": [
    "# Prepare testing data"
   ]
  },
  {
   "cell_type": "code",
   "execution_count": 93,
   "id": "93ab507a-835e-4b0e-a018-5dd1bee34943",
   "metadata": {},
   "outputs": [
    {
     "data": {
      "text/plain": [
       "((1874040, 19),\n",
       " Index(['ndvi', 'ndre', 'evi', 'sbi', 'gvi', 'wet', 'satvi', 'ndmi', 'lulc',\n",
       "        'blue', 'green', 'red', 'red_e1', 'red_e2', 'red_e3', 'nir1', 'swir1',\n",
       "        'swir2', 'nir2'],\n",
       "       dtype='object'))"
      ]
     },
     "execution_count": 93,
     "metadata": {},
     "output_type": "execute_result"
    }
   ],
   "source": [
    "out_of_sample = pd.DataFrame(rs.open('../features/p03_stack_ee.tif').read().reshape(19,-1).T,columns=col_names)\n",
    "out_of_sample.shape, out_of_sample.columns"
   ]
  },
  {
   "cell_type": "code",
   "execution_count": 94,
   "id": "8b8e0b9c-0ea1-4128-a51b-96800796bdb7",
   "metadata": {},
   "outputs": [
    {
     "data": {
      "text/html": [
       "<div>\n",
       "<style scoped>\n",
       "    .dataframe tbody tr th:only-of-type {\n",
       "        vertical-align: middle;\n",
       "    }\n",
       "\n",
       "    .dataframe tbody tr th {\n",
       "        vertical-align: top;\n",
       "    }\n",
       "\n",
       "    .dataframe thead th {\n",
       "        text-align: right;\n",
       "    }\n",
       "</style>\n",
       "<table border=\"1\" class=\"dataframe\">\n",
       "  <thead>\n",
       "    <tr style=\"text-align: right;\">\n",
       "      <th></th>\n",
       "      <th>ndvi</th>\n",
       "      <th>ndre</th>\n",
       "      <th>evi</th>\n",
       "      <th>sbi</th>\n",
       "      <th>gvi</th>\n",
       "      <th>wet</th>\n",
       "      <th>satvi</th>\n",
       "      <th>ndmi</th>\n",
       "      <th>lulc</th>\n",
       "      <th>blue</th>\n",
       "      <th>green</th>\n",
       "      <th>red</th>\n",
       "      <th>red_e1</th>\n",
       "      <th>red_e2</th>\n",
       "      <th>red_e3</th>\n",
       "      <th>nir1</th>\n",
       "      <th>swir1</th>\n",
       "      <th>swir2</th>\n",
       "      <th>nir2</th>\n",
       "    </tr>\n",
       "  </thead>\n",
       "  <tbody>\n",
       "    <tr>\n",
       "      <th>1874035</th>\n",
       "      <td>0.84997</td>\n",
       "      <td>0.64323</td>\n",
       "      <td>2.29542</td>\n",
       "      <td>3012.89600</td>\n",
       "      <td>1395.21082</td>\n",
       "      <td>-808.27710</td>\n",
       "      <td>-1771.87024</td>\n",
       "      <td>0.66862</td>\n",
       "      <td>23.00000</td>\n",
       "      <td>254.00000</td>\n",
       "      <td>376.00000</td>\n",
       "      <td>203.00000</td>\n",
       "      <td>680.00000</td>\n",
       "      <td>2535.00000</td>\n",
       "      <td>3225.00000</td>\n",
       "      <td>3132.00000</td>\n",
       "      <td>1389.00000</td>\n",
       "      <td>622.00000</td>\n",
       "      <td>3545.00000</td>\n",
       "    </tr>\n",
       "    <tr>\n",
       "      <th>1874036</th>\n",
       "      <td>0.86340</td>\n",
       "      <td>0.65630</td>\n",
       "      <td>2.41563</td>\n",
       "      <td>3176.22827</td>\n",
       "      <td>1556.48450</td>\n",
       "      <td>-754.27887</td>\n",
       "      <td>-1810.85461</td>\n",
       "      <td>0.68897</td>\n",
       "      <td>23.00000</td>\n",
       "      <td>248.00000</td>\n",
       "      <td>400.00000</td>\n",
       "      <td>217.00000</td>\n",
       "      <td>702.00000</td>\n",
       "      <td>2650.00000</td>\n",
       "      <td>3371.00000</td>\n",
       "      <td>3383.00000</td>\n",
       "      <td>1399.00000</td>\n",
       "      <td>623.00000</td>\n",
       "      <td>3623.00000</td>\n",
       "    </tr>\n",
       "    <tr>\n",
       "      <th>1874037</th>\n",
       "      <td>0.89383</td>\n",
       "      <td>0.69917</td>\n",
       "      <td>2.52629</td>\n",
       "      <td>3693.66162</td>\n",
       "      <td>2074.66162</td>\n",
       "      <td>-636.60321</td>\n",
       "      <td>-1959.29358</td>\n",
       "      <td>0.73016</td>\n",
       "      <td>23.00000</td>\n",
       "      <td>234.00000</td>\n",
       "      <td>438.00000</td>\n",
       "      <td>224.00000</td>\n",
       "      <td>739.00000</td>\n",
       "      <td>2909.00000</td>\n",
       "      <td>3754.00000</td>\n",
       "      <td>4174.00000</td>\n",
       "      <td>1500.00000</td>\n",
       "      <td>651.00000</td>\n",
       "      <td>3920.00000</td>\n",
       "    </tr>\n",
       "    <tr>\n",
       "      <th>1874038</th>\n",
       "      <td>0.89505</td>\n",
       "      <td>0.73660</td>\n",
       "      <td>2.36102</td>\n",
       "      <td>3856.20142</td>\n",
       "      <td>2254.59985</td>\n",
       "      <td>-622.29742</td>\n",
       "      <td>-1998.28564</td>\n",
       "      <td>0.72981</td>\n",
       "      <td>23.00000</td>\n",
       "      <td>245.00000</td>\n",
       "      <td>407.00000</td>\n",
       "      <td>196.00000</td>\n",
       "      <td>671.00000</td>\n",
       "      <td>2800.00000</td>\n",
       "      <td>3627.00000</td>\n",
       "      <td>4424.00000</td>\n",
       "      <td>1625.00000</td>\n",
       "      <td>691.00000</td>\n",
       "      <td>3998.00000</td>\n",
       "    </tr>\n",
       "    <tr>\n",
       "      <th>1874039</th>\n",
       "      <td>0.88711</td>\n",
       "      <td>0.70675</td>\n",
       "      <td>2.41761</td>\n",
       "      <td>3193.30542</td>\n",
       "      <td>1712.37341</td>\n",
       "      <td>-660.83582</td>\n",
       "      <td>-1756.27905</td>\n",
       "      <td>0.70840</td>\n",
       "      <td>23.00000</td>\n",
       "      <td>211.00000</td>\n",
       "      <td>385.00000</td>\n",
       "      <td>182.00000</td>\n",
       "      <td>606.00000</td>\n",
       "      <td>2655.00000</td>\n",
       "      <td>3215.00000</td>\n",
       "      <td>3527.00000</td>\n",
       "      <td>1391.00000</td>\n",
       "      <td>602.00000</td>\n",
       "      <td>3514.00000</td>\n",
       "    </tr>\n",
       "  </tbody>\n",
       "</table>\n",
       "</div>"
      ],
      "text/plain": [
       "           ndvi    ndre     evi        sbi        gvi        wet       satvi  \\\n",
       "1874035 0.84997 0.64323 2.29542 3012.89600 1395.21082 -808.27710 -1771.87024   \n",
       "1874036 0.86340 0.65630 2.41563 3176.22827 1556.48450 -754.27887 -1810.85461   \n",
       "1874037 0.89383 0.69917 2.52629 3693.66162 2074.66162 -636.60321 -1959.29358   \n",
       "1874038 0.89505 0.73660 2.36102 3856.20142 2254.59985 -622.29742 -1998.28564   \n",
       "1874039 0.88711 0.70675 2.41761 3193.30542 1712.37341 -660.83582 -1756.27905   \n",
       "\n",
       "           ndmi     lulc      blue     green       red    red_e1     red_e2  \\\n",
       "1874035 0.66862 23.00000 254.00000 376.00000 203.00000 680.00000 2535.00000   \n",
       "1874036 0.68897 23.00000 248.00000 400.00000 217.00000 702.00000 2650.00000   \n",
       "1874037 0.73016 23.00000 234.00000 438.00000 224.00000 739.00000 2909.00000   \n",
       "1874038 0.72981 23.00000 245.00000 407.00000 196.00000 671.00000 2800.00000   \n",
       "1874039 0.70840 23.00000 211.00000 385.00000 182.00000 606.00000 2655.00000   \n",
       "\n",
       "            red_e3       nir1      swir1     swir2       nir2  \n",
       "1874035 3225.00000 3132.00000 1389.00000 622.00000 3545.00000  \n",
       "1874036 3371.00000 3383.00000 1399.00000 623.00000 3623.00000  \n",
       "1874037 3754.00000 4174.00000 1500.00000 651.00000 3920.00000  \n",
       "1874038 3627.00000 4424.00000 1625.00000 691.00000 3998.00000  \n",
       "1874039 3215.00000 3527.00000 1391.00000 602.00000 3514.00000  "
      ]
     },
     "execution_count": 94,
     "metadata": {},
     "output_type": "execute_result"
    }
   ],
   "source": [
    "out_of_sample.tail()"
   ]
  },
  {
   "cell_type": "code",
   "execution_count": 95,
   "id": "82c01619-2892-45c8-8e67-57de1c33f598",
   "metadata": {},
   "outputs": [],
   "source": [
    "out_of_sample.replace([65535,inf,-inf],np.nan,inplace=True)"
   ]
  },
  {
   "cell_type": "code",
   "execution_count": 96,
   "id": "3df1e45b-9c90-4987-8713-c6b610459eae",
   "metadata": {},
   "outputs": [
    {
     "data": {
      "text/plain": [
       "ndvi         0\n",
       "ndre         1\n",
       "evi         52\n",
       "sbi          0\n",
       "gvi          0\n",
       "wet          0\n",
       "satvi        0\n",
       "ndmi         1\n",
       "lulc         0\n",
       "blue      1496\n",
       "green     1496\n",
       "red       1496\n",
       "red_e1    1496\n",
       "red_e2    1496\n",
       "red_e3    1496\n",
       "nir1      1496\n",
       "swir1     1496\n",
       "swir2     1496\n",
       "nir2      1496\n",
       "dtype: int64"
      ]
     },
     "execution_count": 96,
     "metadata": {},
     "output_type": "execute_result"
    }
   ],
   "source": [
    "out_of_sample.isna().sum()"
   ]
  },
  {
   "cell_type": "code",
   "execution_count": 97,
   "id": "6bf3bd53-a147-4c9c-b37a-904ba8556ee6",
   "metadata": {},
   "outputs": [
    {
     "data": {
      "text/plain": [
       "ndvi      0\n",
       "ndre      0\n",
       "evi       0\n",
       "sbi       0\n",
       "gvi       0\n",
       "wet       0\n",
       "satvi     0\n",
       "ndmi      0\n",
       "lulc      0\n",
       "blue      0\n",
       "green     0\n",
       "red       0\n",
       "red_e1    0\n",
       "red_e2    0\n",
       "red_e3    0\n",
       "nir1      0\n",
       "swir1     0\n",
       "swir2     0\n",
       "nir2      0\n",
       "dtype: int64"
      ]
     },
     "execution_count": 97,
     "metadata": {},
     "output_type": "execute_result"
    }
   ],
   "source": [
    "out_of_sample.dropna(inplace=True)\n",
    "out_of_sample.isna().sum()"
   ]
  },
  {
   "cell_type": "code",
   "execution_count": 98,
   "id": "ce785cef-2da9-4fb7-b738-61ce17db48b1",
   "metadata": {},
   "outputs": [],
   "source": [
    "out_of_sample[['lulc', 'blue', 'green', 'red', 'red_e1', 'red_e2', 'red_e3', 'nir1','swir1', 'swir2', 'nir2']]=\\\n",
    "out_of_sample[['lulc', 'blue', 'green', 'red', 'red_e1', 'red_e2', 'red_e3', 'nir1','swir1', 'swir2', 'nir2']].astype('int64')"
   ]
  },
  {
   "cell_type": "code",
   "execution_count": 99,
   "id": "986dcdb4-1511-408c-88d9-6604df852dec",
   "metadata": {},
   "outputs": [],
   "source": [
    "out_of_sample.lulc.replace([23,24,25,29],23,inplace=True) # forest\n",
    "out_of_sample.lulc.replace([18,20,21],18,inplace=True) # agricultural areas\n",
    "out_of_sample.lulc.replace([35,36],35,inplace=True) # Wetlands\n",
    "out_of_sample.lulc.replace([2,3,7],2,inplace=True) # Urban fabric"
   ]
  },
  {
   "cell_type": "code",
   "execution_count": 100,
   "id": "77bf9a08-394b-4ec4-888c-8be4b4f0835f",
   "metadata": {},
   "outputs": [
    {
     "data": {
      "text/plain": [
       "array([23, 12, 18,  2, 35])"
      ]
     },
     "execution_count": 100,
     "metadata": {},
     "output_type": "execute_result"
    }
   ],
   "source": [
    "out_of_sample.lulc.unique()"
   ]
  },
  {
   "cell_type": "code",
   "execution_count": 101,
   "id": "6a90f605-a553-4c0a-a677-69be09c18d16",
   "metadata": {},
   "outputs": [],
   "source": [
    "labels=[23,35,12,18,2,41]\n",
    "codes=[1,2,3,4,5,6]\n",
    "labels_dict = {k:i for i,k in zip(codes,labels)}\n",
    "out_of_sample.lulc = out_of_sample.lulc.map(labels_dict)"
   ]
  },
  {
   "cell_type": "code",
   "execution_count": 102,
   "id": "1bcc91cb-1660-4d2b-a18e-3b8f6591cf5a",
   "metadata": {},
   "outputs": [
    {
     "data": {
      "text/plain": [
       "array([1, 3, 4, 5, 2])"
      ]
     },
     "execution_count": 102,
     "metadata": {},
     "output_type": "execute_result"
    }
   ],
   "source": [
    "out_of_sample.lulc.unique()"
   ]
  },
  {
   "cell_type": "code",
   "execution_count": 103,
   "id": "4a637aca-eeef-4f8f-b1a7-76bbf7d68b2d",
   "metadata": {},
   "outputs": [],
   "source": [
    "out_of_sample.to_parquet('../features/testing_data_ee_LULC.parquet')"
   ]
  },
  {
   "cell_type": "code",
   "execution_count": 104,
   "id": "5c76edb4-81b0-41a9-a589-0150d8f07a9a",
   "metadata": {},
   "outputs": [
    {
     "data": {
      "text/plain": [
       "(1872491, 19)"
      ]
     },
     "execution_count": 104,
     "metadata": {},
     "output_type": "execute_result"
    }
   ],
   "source": [
    "out_of_sample.shape"
   ]
  },
  {
   "cell_type": "code",
   "execution_count": null,
   "id": "dd916c8f-839d-44f7-832f-9eabb6441d10",
   "metadata": {},
   "outputs": [],
   "source": []
  }
 ],
 "metadata": {
  "kernelspec": {
   "display_name": "Python 3",
   "language": "python",
   "name": "python3"
  },
  "language_info": {
   "codemirror_mode": {
    "name": "ipython",
    "version": 3
   },
   "file_extension": ".py",
   "mimetype": "text/x-python",
   "name": "python",
   "nbconvert_exporter": "python",
   "pygments_lexer": "ipython3",
   "version": "3.7.4"
  }
 },
 "nbformat": 4,
 "nbformat_minor": 5
}

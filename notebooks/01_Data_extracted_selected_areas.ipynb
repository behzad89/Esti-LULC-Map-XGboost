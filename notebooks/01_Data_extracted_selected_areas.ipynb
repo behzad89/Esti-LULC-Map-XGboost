{
 "cells": [
  {
   "cell_type": "markdown",
   "id": "e954f04d-f902-45c4-b67d-aab2d862326f",
   "metadata": {},
   "source": [
    "# Extracted selected AOI"
   ]
  },
  {
   "cell_type": "code",
   "execution_count": 13,
   "id": "3f053c74-8dab-46ba-ba96-163c3a8aa8fd",
   "metadata": {},
   "outputs": [],
   "source": [
    "import sys  \n",
    "sys.path.insert(0, '../src')"
   ]
  },
  {
   "cell_type": "code",
   "execution_count": 14,
   "id": "8f668535-a424-409a-8bad-bcedde73b4bb",
   "metadata": {},
   "outputs": [],
   "source": [
    "import utils as ut\n",
    "import geopandas as gpd\n",
    "import rasterio as rs\n",
    "\n",
    "import matplotlib.pyplot as plt\n",
    "import seaborn as sns\n",
    "\n",
    "import pandas as pd\n",
    "import numpy as np\n",
    "\n",
    "from tqdm import tqdm\n",
    "import os"
   ]
  },
  {
   "cell_type": "code",
   "execution_count": 3,
   "id": "457bd2bc-d3ce-46db-a001-284738415cab",
   "metadata": {},
   "outputs": [],
   "source": [
    "%load_ext autoreload\n",
    "%autoreload 2"
   ]
  },
  {
   "cell_type": "code",
   "execution_count": 4,
   "id": "c25b4780-826b-46c2-ad21-702648321765",
   "metadata": {},
   "outputs": [
    {
     "name": "stdout",
     "output_type": "stream",
     "text": [
      "Populating the interactive namespace from numpy and matplotlib\n"
     ]
    }
   ],
   "source": [
    "%pylab inline\n",
    "plt.style.use(\"bmh\")"
   ]
  },
  {
   "cell_type": "code",
   "execution_count": 5,
   "id": "a302ee32-1699-45d3-81a1-78cf10ad2cb2",
   "metadata": {},
   "outputs": [
    {
     "data": {
      "text/plain": [
       "['esti_aoi.geojson',\n",
       " 'lulc_Esti.tif',\n",
       " 'S2GM_Q10_20200401_20200630_Esti_wgs_2020_summer_STD_v1.3.0_1499060']"
      ]
     },
     "execution_count": 5,
     "metadata": {},
     "output_type": "execute_result"
    }
   ],
   "source": [
    "os.listdir('../data/')"
   ]
  },
  {
   "cell_type": "code",
   "execution_count": 6,
   "id": "f330c2e9-2349-4a9a-81ad-2e83c2548e49",
   "metadata": {},
   "outputs": [
    {
     "data": {
      "text/html": [
       "<div>\n",
       "<style scoped>\n",
       "    .dataframe tbody tr th:only-of-type {\n",
       "        vertical-align: middle;\n",
       "    }\n",
       "\n",
       "    .dataframe tbody tr th {\n",
       "        vertical-align: top;\n",
       "    }\n",
       "\n",
       "    .dataframe thead th {\n",
       "        text-align: right;\n",
       "    }\n",
       "</style>\n",
       "<table border=\"1\" class=\"dataframe\">\n",
       "  <thead>\n",
       "    <tr style=\"text-align: right;\">\n",
       "      <th></th>\n",
       "      <th>id</th>\n",
       "      <th>geometry</th>\n",
       "    </tr>\n",
       "  </thead>\n",
       "  <tbody>\n",
       "    <tr>\n",
       "      <th>0</th>\n",
       "      <td>3</td>\n",
       "      <td>MULTIPOLYGON (((666944.942 6433413.978, 666944...</td>\n",
       "    </tr>\n",
       "    <tr>\n",
       "      <th>1</th>\n",
       "      <td>1</td>\n",
       "      <td>MULTIPOLYGON (((514427.000 6537807.152, 514427...</td>\n",
       "    </tr>\n",
       "    <tr>\n",
       "      <th>2</th>\n",
       "      <td>2</td>\n",
       "      <td>MULTIPOLYGON (((622871.222 6536201.692, 622871...</td>\n",
       "    </tr>\n",
       "    <tr>\n",
       "      <th>3</th>\n",
       "      <td>4</td>\n",
       "      <td>MULTIPOLYGON (((542483.508 6483794.866, 542483...</td>\n",
       "    </tr>\n",
       "  </tbody>\n",
       "</table>\n",
       "</div>"
      ],
      "text/plain": [
       "   id                                           geometry\n",
       "0   3  MULTIPOLYGON (((666944.942 6433413.978, 666944...\n",
       "1   1  MULTIPOLYGON (((514427.000 6537807.152, 514427...\n",
       "2   2  MULTIPOLYGON (((622871.222 6536201.692, 622871...\n",
       "3   4  MULTIPOLYGON (((542483.508 6483794.866, 542483..."
      ]
     },
     "execution_count": 6,
     "metadata": {},
     "output_type": "execute_result"
    }
   ],
   "source": [
    "aois = gpd.read_file('../data/esti_aoi.geojson')\n",
    "aois.head()"
   ]
  },
  {
   "cell_type": "code",
   "execution_count": 7,
   "id": "126e42de-bdf6-45ec-ae26-c689b9d2ad48",
   "metadata": {},
   "outputs": [
    {
     "data": {
      "text/plain": [
       "<Projected CRS: EPSG:3301>\n",
       "Name: Estonian Coordinate System of 1997\n",
       "Axis Info [cartesian]:\n",
       "- X[north]: Northing (metre)\n",
       "- Y[east]: Easting (metre)\n",
       "Area of Use:\n",
       "- name: Estonia - onshore and offshore.\n",
       "- bounds: (20.37, 57.52, 28.2, 60.0)\n",
       "Coordinate Operation:\n",
       "- name: Estonian National Grid\n",
       "- method: Lambert Conic Conformal (2SP)\n",
       "Datum: Estonia 1997\n",
       "- Ellipsoid: GRS 1980\n",
       "- Prime Meridian: Greenwich"
      ]
     },
     "execution_count": 7,
     "metadata": {},
     "output_type": "execute_result"
    }
   ],
   "source": [
    "aois.crs"
   ]
  },
  {
   "cell_type": "code",
   "execution_count": 8,
   "id": "b3a630ae-bd08-4f42-adfc-724254458082",
   "metadata": {},
   "outputs": [
    {
     "data": {
      "text/plain": [
       "<AxesSubplot:>"
      ]
     },
     "execution_count": 8,
     "metadata": {},
     "output_type": "execute_result"
    },
    {
     "data": {
      "image/png": "[encoded data removed]",
      "text/plain": [
       "<Figure size 432x288 with 1 Axes>"
      ]
     },
     "metadata": {
      "needs_background": "light"
     },
     "output_type": "display_data"
    }
   ],
   "source": [
    "aois.plot()"
   ]
  },
  {
   "cell_type": "code",
   "execution_count": 9,
   "id": "5274c90c-8004-4715-832c-f91e1ef8d5d5",
   "metadata": {},
   "outputs": [],
   "source": [
    "# Clip the AOIs from S2 images\n",
    "for i,geom in enumerate(aois.geometry):\n",
    "    out_path = f'../features/patches/patch_s2_{i}_ee.tif'\n",
    "    ut.clip_area_of_interest(geom,'../features/mosaics/all_bands_ee.tif',out_path)"
   ]
  },
  {
   "cell_type": "code",
   "execution_count": 10,
   "id": "a73a8903-b439-4934-9adb-fd987d0283a3",
   "metadata": {},
   "outputs": [
    {
     "name": "stdout",
     "output_type": "stream",
     "text": [
      "Done!\n"
     ]
    }
   ],
   "source": [
    "# Clip the AIOs from LULC images\n",
    "for i,geom in enumerate(aois.geometry):\n",
    "    out_path = f'../features/patches/patch_lulc_{i}_ee.tif'\n",
    "    ut.clip_area_of_interest(geom,'../data/lulc_Esti.tif',out_path)\n",
    "    \n",
    "print('Done!')   "
   ]
  },
  {
   "cell_type": "code",
   "execution_count": 16,
   "id": "bbdd5b2e-45b1-4680-adda-9a0349306f82",
   "metadata": {},
   "outputs": [
    {
     "name": "stdout",
     "output_type": "stream",
     "text": [
      "Done!\n"
     ]
    }
   ],
   "source": [
    "# Stack all S2 & LULC images\n",
    "items = os.listdir('../features/patches/')\n",
    "start_with = [\"_0_ee.tif\",\"_1_ee.tif\",\"_2_ee.tif\",\"_3_ee.tif\"]\n",
    "\n",
    "for i,wrd in enumerate(start_with):\n",
    "    imgs_list = ut.list_files_with_absolute_paths('../features/patches/',endswith=wrd)\n",
    "    imgs_list.sort()\n",
    "    out_path=f'../features/p{i}_stack_ee.tif'\n",
    "    ut.stack(imgs_list,out_path)\n",
    "    \n",
    "print('Done!')"
   ]
  },
  {
   "cell_type": "code",
   "execution_count": null,
   "id": "419735c9-f805-4e28-94f5-244ca9918aac",
   "metadata": {},
   "outputs": [],
   "source": []
  }
 ],
 "metadata": {
  "kernelspec": {
   "display_name": "Python 3",
   "language": "python",
   "name": "python3"
  },
  "language_info": {
   "codemirror_mode": {
    "name": "ipython",
    "version": 3
   },
   "file_extension": ".py",
   "mimetype": "text/x-python",
   "name": "python",
   "nbconvert_exporter": "python",
   "pygments_lexer": "ipython3",
   "version": "3.7.4"
  }
 },
 "nbformat": 4,
 "nbformat_minor": 5
}

{
 "cells": [
  {
   "cell_type": "code",
   "execution_count": 1,
   "id": "168f3fe6-ed3c-4ef4-92ab-dd09315b7c88",
   "metadata": {},
   "outputs": [],
   "source": [
    "import sys  \n",
    "sys.path.insert(0, '../src')"
   ]
  },
  {
   "cell_type": "code",
   "execution_count": 2,
   "id": "3d1096cb-700a-4ccb-a21a-165ac2566240",
   "metadata": {},
   "outputs": [],
   "source": [
    "import utils as ut\n",
    "import rasterio as rs\n",
    "from rasterio.windows import from_bounds\n",
    "import numpy as np\n",
    "import pandas as pd\n",
    "\n",
    "import os, sys, warnings\n",
    "from tqdm import tqdm"
   ]
  },
  {
   "cell_type": "code",
   "execution_count": 3,
   "id": "6e54cd20-28ce-4f75-966c-376f96c6982c",
   "metadata": {},
   "outputs": [],
   "source": [
    "%load_ext autoreload\n",
    "%autoreload 2"
   ]
  },
  {
   "cell_type": "code",
   "execution_count": 4,
   "id": "ef571ba3-50ce-4306-8b43-7afa1d5e81de",
   "metadata": {},
   "outputs": [
    {
     "name": "stdout",
     "output_type": "stream",
     "text": [
      "Populating the interactive namespace from numpy and matplotlib\n"
     ]
    }
   ],
   "source": [
    "%pylab inline\n",
    "plt.style.use(\"bmh\")"
   ]
  },
  {
   "cell_type": "code",
   "execution_count": 5,
   "id": "332baa85-e8eb-4253-b2a8-2a298a3fa420",
   "metadata": {},
   "outputs": [],
   "source": [
    "pd.set_option('display.float_format', lambda x: '%.5f' % x)"
   ]
  },
  {
   "cell_type": "code",
   "execution_count": 6,
   "id": "8c898849-9f83-465e-bc15-b6e23a14cc7b",
   "metadata": {},
   "outputs": [],
   "source": [
    "warnings.filterwarnings(\"ignore\", category=UserWarning)\n",
    "warnings.filterwarnings(\"ignore\", category=RuntimeWarning)"
   ]
  },
  {
   "cell_type": "code",
   "execution_count": 7,
   "id": "952d5480-1d69-4652-84ee-c70a84cfc6be",
   "metadata": {},
   "outputs": [],
   "source": [
    "data_path = '../features/'"
   ]
  },
  {
   "cell_type": "code",
   "execution_count": 8,
   "id": "fc71a20f-ab55-4a2f-874c-67429cdb9fdf",
   "metadata": {},
   "outputs": [
    {
     "data": {
      "text/plain": [
       "['../features/p1_stack_ee.tif',\n",
       " '../features/p0_stack_ee.tif',\n",
       " '../features/p2_stack_ee.tif',\n",
       " '../features/p3_stack_ee.tif']"
      ]
     },
     "execution_count": 8,
     "metadata": {},
     "output_type": "execute_result"
    }
   ],
   "source": [
    "patches_imgs = ut.list_files_with_absolute_paths(data_path,endswith='stack_ee.tif')\n",
    "patches_imgs"
   ]
  },
  {
   "cell_type": "code",
   "execution_count": 9,
   "id": "092af763-e058-4f1c-854e-b31e77aa987d",
   "metadata": {},
   "outputs": [],
   "source": [
    "col_names = [\"lulc\", \"blue\", \"green\",\"red\",\"red_e1\",\"red_e2\",\"red_e3\",\"nir1\",\"swir1\",\"swir2\",\"nir2\"]"
   ]
  },
  {
   "cell_type": "markdown",
   "id": "843584bd-cbaf-4e0a-b03d-104250b70e85",
   "metadata": {},
   "source": [
    "# Prepare training data"
   ]
  },
  {
   "cell_type": "code",
   "execution_count": 10,
   "id": "7c20adc8-dcdd-4794-865c-1868f1d4dedf",
   "metadata": {},
   "outputs": [
    {
     "data": {
      "text/plain": [
       "3"
      ]
     },
     "execution_count": 10,
     "metadata": {},
     "output_type": "execute_result"
    }
   ],
   "source": [
    "df_imgs = [pd.DataFrame(rs.open(f'../data/{img}').read().reshape(11,-1).T,columns=col_names) for img in patches_imgs[-3:]]  \n",
    "len(df_imgs)"
   ]
  },
  {
   "cell_type": "code",
   "execution_count": 26,
   "id": "ffc5c0dc-464a-4f5b-9576-39c9f4eae065",
   "metadata": {},
   "outputs": [
    {
     "data": {
      "text/plain": [
       "['../features/p0_stack_ee.tif',\n",
       " '../features/p2_stack_ee.tif',\n",
       " '../features/p3_stack_ee.tif']"
      ]
     },
     "execution_count": 26,
     "metadata": {},
     "output_type": "execute_result"
    }
   ],
   "source": [
    "patches_imgs[-3:]"
   ]
  },
  {
   "cell_type": "code",
   "execution_count": 11,
   "id": "ad10714b-5dda-41f8-b73e-fb7a4dcb1156",
   "metadata": {},
   "outputs": [
    {
     "data": {
      "text/plain": [
       "((5135073, 11),\n",
       " Index(['lulc', 'blue', 'green', 'red', 'red_e1', 'red_e2', 'red_e3', 'nir1',\n",
       "        'swir1', 'swir2', 'nir2'],\n",
       "       dtype='object'))"
      ]
     },
     "execution_count": 11,
     "metadata": {},
     "output_type": "execute_result"
    }
   ],
   "source": [
    "df_all = pd.concat(df_imgs)\n",
    "df_all.shape, df_all.columns"
   ]
  },
  {
   "cell_type": "code",
   "execution_count": 12,
   "id": "73bffb4a-c4a4-4397-92b6-9c044193c667",
   "metadata": {},
   "outputs": [],
   "source": [
    "df_all['NDVI'] = df_all[['nir1','red']].apply(ut.ndvi,axis=1)"
   ]
  },
  {
   "cell_type": "code",
   "execution_count": 13,
   "id": "06967270-1f88-469a-a724-67063001ea67",
   "metadata": {},
   "outputs": [],
   "source": [
    "df_all['NDWI'] = df_all[['nir1','swir2']].apply(ut.ndwi,axis=1)"
   ]
  },
  {
   "cell_type": "code",
   "execution_count": 14,
   "id": "be1387ea-f5e9-4de8-b377-fc08960c3100",
   "metadata": {},
   "outputs": [
    {
     "data": {
      "text/html": [
       "<div>\n",
       "<style scoped>\n",
       "    .dataframe tbody tr th:only-of-type {\n",
       "        vertical-align: middle;\n",
       "    }\n",
       "\n",
       "    .dataframe tbody tr th {\n",
       "        vertical-align: top;\n",
       "    }\n",
       "\n",
       "    .dataframe thead th {\n",
       "        text-align: right;\n",
       "    }\n",
       "</style>\n",
       "<table border=\"1\" class=\"dataframe\">\n",
       "  <thead>\n",
       "    <tr style=\"text-align: right;\">\n",
       "      <th></th>\n",
       "      <th>lulc</th>\n",
       "      <th>blue</th>\n",
       "      <th>green</th>\n",
       "      <th>red</th>\n",
       "      <th>red_e1</th>\n",
       "      <th>red_e2</th>\n",
       "      <th>red_e3</th>\n",
       "      <th>nir1</th>\n",
       "      <th>swir1</th>\n",
       "      <th>swir2</th>\n",
       "      <th>nir2</th>\n",
       "      <th>NDVI</th>\n",
       "      <th>NDWI</th>\n",
       "    </tr>\n",
       "  </thead>\n",
       "  <tbody>\n",
       "    <tr>\n",
       "      <th>2201290</th>\n",
       "      <td>306</td>\n",
       "      <td>348</td>\n",
       "      <td>480</td>\n",
       "      <td>497</td>\n",
       "      <td>966</td>\n",
       "      <td>1573</td>\n",
       "      <td>1777</td>\n",
       "      <td>1994</td>\n",
       "      <td>1751</td>\n",
       "      <td>1040</td>\n",
       "      <td>2073</td>\n",
       "      <td>0.60096</td>\n",
       "      <td>0.31444</td>\n",
       "    </tr>\n",
       "    <tr>\n",
       "      <th>2201291</th>\n",
       "      <td>306</td>\n",
       "      <td>310</td>\n",
       "      <td>452</td>\n",
       "      <td>467</td>\n",
       "      <td>949</td>\n",
       "      <td>1598</td>\n",
       "      <td>1834</td>\n",
       "      <td>2010</td>\n",
       "      <td>1790</td>\n",
       "      <td>1079</td>\n",
       "      <td>2078</td>\n",
       "      <td>0.62293</td>\n",
       "      <td>0.30139</td>\n",
       "    </tr>\n",
       "    <tr>\n",
       "      <th>2201292</th>\n",
       "      <td>306</td>\n",
       "      <td>314</td>\n",
       "      <td>435</td>\n",
       "      <td>446</td>\n",
       "      <td>888</td>\n",
       "      <td>1483</td>\n",
       "      <td>1700</td>\n",
       "      <td>1855</td>\n",
       "      <td>1798</td>\n",
       "      <td>1104</td>\n",
       "      <td>1932</td>\n",
       "      <td>0.61234</td>\n",
       "      <td>0.25380</td>\n",
       "    </tr>\n",
       "    <tr>\n",
       "      <th>2201293</th>\n",
       "      <td>306</td>\n",
       "      <td>317</td>\n",
       "      <td>428</td>\n",
       "      <td>437</td>\n",
       "      <td>864</td>\n",
       "      <td>1440</td>\n",
       "      <td>1641</td>\n",
       "      <td>1762</td>\n",
       "      <td>1795</td>\n",
       "      <td>1102</td>\n",
       "      <td>1878</td>\n",
       "      <td>0.60255</td>\n",
       "      <td>0.23045</td>\n",
       "    </tr>\n",
       "    <tr>\n",
       "      <th>2201294</th>\n",
       "      <td>65535</td>\n",
       "      <td>65535</td>\n",
       "      <td>65535</td>\n",
       "      <td>65535</td>\n",
       "      <td>65535</td>\n",
       "      <td>65535</td>\n",
       "      <td>65535</td>\n",
       "      <td>65535</td>\n",
       "      <td>65535</td>\n",
       "      <td>65535</td>\n",
       "      <td>65535</td>\n",
       "      <td>0.00000</td>\n",
       "      <td>0.00000</td>\n",
       "    </tr>\n",
       "  </tbody>\n",
       "</table>\n",
       "</div>"
      ],
      "text/plain": [
       "          lulc   blue  green    red  red_e1  red_e2  red_e3   nir1  swir1  \\\n",
       "2201290    306    348    480    497     966    1573    1777   1994   1751   \n",
       "2201291    306    310    452    467     949    1598    1834   2010   1790   \n",
       "2201292    306    314    435    446     888    1483    1700   1855   1798   \n",
       "2201293    306    317    428    437     864    1440    1641   1762   1795   \n",
       "2201294  65535  65535  65535  65535   65535   65535   65535  65535  65535   \n",
       "\n",
       "         swir2   nir2    NDVI    NDWI  \n",
       "2201290   1040   2073 0.60096 0.31444  \n",
       "2201291   1079   2078 0.62293 0.30139  \n",
       "2201292   1104   1932 0.61234 0.25380  \n",
       "2201293   1102   1878 0.60255 0.23045  \n",
       "2201294  65535  65535 0.00000 0.00000  "
      ]
     },
     "execution_count": 14,
     "metadata": {},
     "output_type": "execute_result"
    }
   ],
   "source": [
    "df_all.tail()"
   ]
  },
  {
   "cell_type": "code",
   "execution_count": 15,
   "id": "f0203854-22da-4f83-b71f-929a8bcb6fba",
   "metadata": {},
   "outputs": [],
   "source": [
    "df_all.replace(65535,np.nan,inplace=True)"
   ]
  },
  {
   "cell_type": "code",
   "execution_count": 16,
   "id": "f819329e-cd06-4c7f-a0f6-f38c9c4a44de",
   "metadata": {},
   "outputs": [
    {
     "data": {
      "text/plain": [
       "lulc      4891\n",
       "blue      4990\n",
       "green     4990\n",
       "red       4990\n",
       "red_e1    4990\n",
       "red_e2    4990\n",
       "red_e3    4990\n",
       "nir1      4990\n",
       "swir1     4990\n",
       "swir2     4990\n",
       "nir2      4990\n",
       "NDVI         0\n",
       "NDWI         0\n",
       "dtype: int64"
      ]
     },
     "execution_count": 16,
     "metadata": {},
     "output_type": "execute_result"
    }
   ],
   "source": [
    "df_all.isna().sum()"
   ]
  },
  {
   "cell_type": "code",
   "execution_count": 17,
   "id": "98dcb066-52e0-4951-ac35-8e358e4706f9",
   "metadata": {},
   "outputs": [
    {
     "data": {
      "text/plain": [
       "lulc      0\n",
       "blue      0\n",
       "green     0\n",
       "red       0\n",
       "red_e1    0\n",
       "red_e2    0\n",
       "red_e3    0\n",
       "nir1      0\n",
       "swir1     0\n",
       "swir2     0\n",
       "nir2      0\n",
       "NDVI      0\n",
       "NDWI      0\n",
       "dtype: int64"
      ]
     },
     "execution_count": 17,
     "metadata": {},
     "output_type": "execute_result"
    }
   ],
   "source": [
    "df_all.dropna(inplace=True)\n",
    "df_all.isna().sum()"
   ]
  },
  {
   "cell_type": "code",
   "execution_count": 18,
   "id": "e3df4764-26b9-467a-b6d6-8bcde9ea08f0",
   "metadata": {},
   "outputs": [],
   "source": [
    "df_all[['lulc', 'blue', 'green', 'red', 'red_e1', 'red_e2', 'red_e3', 'nir1','swir1', 'swir2', 'nir2']]=\\\n",
    "df_all[['lulc', 'blue', 'green', 'red', 'red_e1', 'red_e2', 'red_e3', 'nir1','swir1', 'swir2', 'nir2']].astype('int64')"
   ]
  },
  {
   "cell_type": "code",
   "execution_count": 19,
   "id": "407b000f-c64a-4140-8f03-4a1baa581768",
   "metadata": {},
   "outputs": [
    {
     "data": {
      "text/plain": [
       "305   0.48235\n",
       "303   0.35818\n",
       "304   0.05735\n",
       "306   0.04144\n",
       "307   0.02926\n",
       "302   0.01396\n",
       "202   0.00528\n",
       "203   0.00455\n",
       "501   0.00390\n",
       "401   0.00208\n",
       "301   0.00158\n",
       "403   0.00007\n",
       "404   0.00000\n",
       "Name: lulc, dtype: float64"
      ]
     },
     "execution_count": 19,
     "metadata": {},
     "output_type": "execute_result"
    }
   ],
   "source": [
    "df_all.lulc.value_counts(normalize=True)"
   ]
  },
  {
   "cell_type": "markdown",
   "id": "4689a617-c2e0-46b8-87a6-910751a725d3",
   "metadata": {},
   "source": [
    "`305`: `forest, shrub (1)`\\\n",
    "`303`: `arable land, orchard (2)`\\\n",
    "`304`: `meadow/grassland, sandy area, stony (pebble) area, open area (3)`\\\n",
    "`306`: `swamp/mire, bog, quaking bog, marshy grassland (4)`\\\n",
    "`307`: `peat field, abandoned peat field (5)`\\\n",
    "`302-401-301-403-404`: `residential building area (6)`\\\n",
    "`202-203`: `lake, artificial lake, pond, etc (7)`\\\n",
    "`501`: `road area or square (8)`"
   ]
  },
  {
   "cell_type": "code",
   "execution_count": 20,
   "id": "1c28d25c-c9e1-4afc-8221-58a077589831",
   "metadata": {},
   "outputs": [],
   "source": [
    "df_all.lulc.replace([202,203],202,inplace=True) # water\n",
    "df_all.lulc.replace([302,401,301,403,404],302,inplace=True) # residential area"
   ]
  },
  {
   "cell_type": "code",
   "execution_count": 21,
   "id": "9af742e7-68e1-4bdf-8158-d02d7c54dcf5",
   "metadata": {},
   "outputs": [
    {
     "data": {
      "text/plain": [
       "array([305, 306, 304, 303, 501, 302, 202, 307])"
      ]
     },
     "execution_count": 21,
     "metadata": {},
     "output_type": "execute_result"
    }
   ],
   "source": [
    "df_all.lulc.unique()"
   ]
  },
  {
   "cell_type": "code",
   "execution_count": 22,
   "id": "85fbca50-9192-4c22-9248-29e7319fbf73",
   "metadata": {},
   "outputs": [],
   "source": [
    "labels=[305,303,304,306,307,302,202,501]\n",
    "codes=[1,2,3,4,5,6,7,8]\n",
    "labels_dict = {k:i for i,k in zip(codes,labels)}\n",
    "df_all.lulc = df_all.lulc.map(labels_dict)"
   ]
  },
  {
   "cell_type": "code",
   "execution_count": 23,
   "id": "14273232-4c01-4ca6-82d2-2557ff4220da",
   "metadata": {},
   "outputs": [
    {
     "data": {
      "text/plain": [
       "array([1, 4, 3, 2, 8, 6, 7, 5])"
      ]
     },
     "execution_count": 23,
     "metadata": {},
     "output_type": "execute_result"
    }
   ],
   "source": [
    "df_all.lulc.unique()"
   ]
  },
  {
   "cell_type": "code",
   "execution_count": 24,
   "id": "207ff135-8445-4e29-ac07-42415f599783",
   "metadata": {},
   "outputs": [],
   "source": [
    "df_all.to_parquet('../features/training_data_ee_LULC.parquet')"
   ]
  },
  {
   "cell_type": "code",
   "execution_count": 25,
   "id": "3daf1031-b8a9-4059-b74a-cff8801f3955",
   "metadata": {},
   "outputs": [
    {
     "data": {
      "text/plain": [
       "(5130083, 13)"
      ]
     },
     "execution_count": 25,
     "metadata": {},
     "output_type": "execute_result"
    }
   ],
   "source": [
    "df_all.shape"
   ]
  },
  {
   "cell_type": "markdown",
   "id": "459600c1-cd51-4aa1-b7fb-995e74d14956",
   "metadata": {},
   "source": [
    "# Prepare testing data"
   ]
  },
  {
   "cell_type": "code",
   "execution_count": 27,
   "id": "93ab507a-835e-4b0e-a018-5dd1bee34943",
   "metadata": {},
   "outputs": [
    {
     "data": {
      "text/plain": [
       "((1245382, 11),\n",
       " Index(['lulc', 'blue', 'green', 'red', 'red_e1', 'red_e2', 'red_e3', 'nir1',\n",
       "        'swir1', 'swir2', 'nir2'],\n",
       "       dtype='object'))"
      ]
     },
     "execution_count": 27,
     "metadata": {},
     "output_type": "execute_result"
    }
   ],
   "source": [
    "out_of_sample = pd.DataFrame(rs.open('../features/p1_stack_ee.tif').read().reshape(11,-1).T,columns=col_names)\n",
    "out_of_sample.shape, out_of_sample.columns"
   ]
  },
  {
   "cell_type": "code",
   "execution_count": 28,
   "id": "324c6c48-d78c-46dc-a415-526e2fceac50",
   "metadata": {},
   "outputs": [],
   "source": [
    "out_of_sample['NDVI'] = out_of_sample[['nir1','red']].apply(ut.ndvi,axis=1)"
   ]
  },
  {
   "cell_type": "code",
   "execution_count": 29,
   "id": "0edac972-7276-4365-8dfd-97d7a8c84b6d",
   "metadata": {},
   "outputs": [],
   "source": [
    "out_of_sample['NDWI'] = out_of_sample[['nir1','swir2']].apply(ut.ndwi,axis=1)"
   ]
  },
  {
   "cell_type": "code",
   "execution_count": 31,
   "id": "8b8e0b9c-0ea1-4128-a51b-96800796bdb7",
   "metadata": {},
   "outputs": [
    {
     "data": {
      "text/html": [
       "<div>\n",
       "<style scoped>\n",
       "    .dataframe tbody tr th:only-of-type {\n",
       "        vertical-align: middle;\n",
       "    }\n",
       "\n",
       "    .dataframe tbody tr th {\n",
       "        vertical-align: top;\n",
       "    }\n",
       "\n",
       "    .dataframe thead th {\n",
       "        text-align: right;\n",
       "    }\n",
       "</style>\n",
       "<table border=\"1\" class=\"dataframe\">\n",
       "  <thead>\n",
       "    <tr style=\"text-align: right;\">\n",
       "      <th></th>\n",
       "      <th>lulc</th>\n",
       "      <th>blue</th>\n",
       "      <th>green</th>\n",
       "      <th>red</th>\n",
       "      <th>red_e1</th>\n",
       "      <th>red_e2</th>\n",
       "      <th>red_e3</th>\n",
       "      <th>nir1</th>\n",
       "      <th>swir1</th>\n",
       "      <th>swir2</th>\n",
       "      <th>nir2</th>\n",
       "      <th>NDVI</th>\n",
       "      <th>NDWI</th>\n",
       "    </tr>\n",
       "  </thead>\n",
       "  <tbody>\n",
       "    <tr>\n",
       "      <th>0</th>\n",
       "      <td>65535</td>\n",
       "      <td>65535</td>\n",
       "      <td>65535</td>\n",
       "      <td>65535</td>\n",
       "      <td>65535</td>\n",
       "      <td>65535</td>\n",
       "      <td>65535</td>\n",
       "      <td>65535</td>\n",
       "      <td>65535</td>\n",
       "      <td>65535</td>\n",
       "      <td>65535</td>\n",
       "      <td>0.00000</td>\n",
       "      <td>0.00000</td>\n",
       "    </tr>\n",
       "    <tr>\n",
       "      <th>1</th>\n",
       "      <td>306</td>\n",
       "      <td>490</td>\n",
       "      <td>691</td>\n",
       "      <td>788</td>\n",
       "      <td>1048</td>\n",
       "      <td>1477</td>\n",
       "      <td>1663</td>\n",
       "      <td>1887</td>\n",
       "      <td>2181</td>\n",
       "      <td>1423</td>\n",
       "      <td>1957</td>\n",
       "      <td>0.41084</td>\n",
       "      <td>0.14018</td>\n",
       "    </tr>\n",
       "    <tr>\n",
       "      <th>2</th>\n",
       "      <td>306</td>\n",
       "      <td>475</td>\n",
       "      <td>631</td>\n",
       "      <td>774</td>\n",
       "      <td>1031</td>\n",
       "      <td>1406</td>\n",
       "      <td>1553</td>\n",
       "      <td>1743</td>\n",
       "      <td>2285</td>\n",
       "      <td>1514</td>\n",
       "      <td>1824</td>\n",
       "      <td>0.38498</td>\n",
       "      <td>0.07031</td>\n",
       "    </tr>\n",
       "    <tr>\n",
       "      <th>3</th>\n",
       "      <td>306</td>\n",
       "      <td>397</td>\n",
       "      <td>465</td>\n",
       "      <td>639</td>\n",
       "      <td>729</td>\n",
       "      <td>1013</td>\n",
       "      <td>1143</td>\n",
       "      <td>1325</td>\n",
       "      <td>2099</td>\n",
       "      <td>1372</td>\n",
       "      <td>1356</td>\n",
       "      <td>0.34929</td>\n",
       "      <td>24.28217</td>\n",
       "    </tr>\n",
       "    <tr>\n",
       "      <th>4</th>\n",
       "      <td>306</td>\n",
       "      <td>320</td>\n",
       "      <td>384</td>\n",
       "      <td>506</td>\n",
       "      <td>614</td>\n",
       "      <td>832</td>\n",
       "      <td>936</td>\n",
       "      <td>1078</td>\n",
       "      <td>2131</td>\n",
       "      <td>1396</td>\n",
       "      <td>1159</td>\n",
       "      <td>0.36111</td>\n",
       "      <td>26.36136</td>\n",
       "    </tr>\n",
       "  </tbody>\n",
       "</table>\n",
       "</div>"
      ],
      "text/plain": [
       "    lulc   blue  green    red  red_e1  red_e2  red_e3   nir1  swir1  swir2  \\\n",
       "0  65535  65535  65535  65535   65535   65535   65535  65535  65535  65535   \n",
       "1    306    490    691    788    1048    1477    1663   1887   2181   1423   \n",
       "2    306    475    631    774    1031    1406    1553   1743   2285   1514   \n",
       "3    306    397    465    639     729    1013    1143   1325   2099   1372   \n",
       "4    306    320    384    506     614     832     936   1078   2131   1396   \n",
       "\n",
       "    nir2    NDVI     NDWI  \n",
       "0  65535 0.00000  0.00000  \n",
       "1   1957 0.41084  0.14018  \n",
       "2   1824 0.38498  0.07031  \n",
       "3   1356 0.34929 24.28217  \n",
       "4   1159 0.36111 26.36136  "
      ]
     },
     "execution_count": 31,
     "metadata": {},
     "output_type": "execute_result"
    }
   ],
   "source": [
    "out_of_sample.head()"
   ]
  },
  {
   "cell_type": "code",
   "execution_count": 33,
   "id": "82c01619-2892-45c8-8e67-57de1c33f598",
   "metadata": {},
   "outputs": [],
   "source": [
    "out_of_sample.replace(65535,np.nan,inplace=True)"
   ]
  },
  {
   "cell_type": "code",
   "execution_count": 34,
   "id": "3df1e45b-9c90-4987-8713-c6b610459eae",
   "metadata": {},
   "outputs": [
    {
     "data": {
      "text/plain": [
       "lulc      2232\n",
       "blue      2232\n",
       "green     2232\n",
       "red       2232\n",
       "red_e1    2232\n",
       "red_e2    2232\n",
       "red_e3    2232\n",
       "nir1      2232\n",
       "swir1     2232\n",
       "swir2     2232\n",
       "nir2      2232\n",
       "NDVI         0\n",
       "NDWI         0\n",
       "dtype: int64"
      ]
     },
     "execution_count": 34,
     "metadata": {},
     "output_type": "execute_result"
    }
   ],
   "source": [
    "out_of_sample.isna().sum()"
   ]
  },
  {
   "cell_type": "code",
   "execution_count": 35,
   "id": "6bf3bd53-a147-4c9c-b37a-904ba8556ee6",
   "metadata": {},
   "outputs": [
    {
     "data": {
      "text/plain": [
       "lulc      0\n",
       "blue      0\n",
       "green     0\n",
       "red       0\n",
       "red_e1    0\n",
       "red_e2    0\n",
       "red_e3    0\n",
       "nir1      0\n",
       "swir1     0\n",
       "swir2     0\n",
       "nir2      0\n",
       "NDVI      0\n",
       "NDWI      0\n",
       "dtype: int64"
      ]
     },
     "execution_count": 35,
     "metadata": {},
     "output_type": "execute_result"
    }
   ],
   "source": [
    "out_of_sample.dropna(inplace=True)\n",
    "out_of_sample.isna().sum()"
   ]
  },
  {
   "cell_type": "code",
   "execution_count": 36,
   "id": "ce785cef-2da9-4fb7-b738-61ce17db48b1",
   "metadata": {},
   "outputs": [],
   "source": [
    "out_of_sample[['lulc', 'blue', 'green', 'red', 'red_e1', 'red_e2', 'red_e3', 'nir1','swir1', 'swir2', 'nir2']]=\\\n",
    "out_of_sample[['lulc', 'blue', 'green', 'red', 'red_e1', 'red_e2', 'red_e3', 'nir1','swir1', 'swir2', 'nir2']].astype('int64')"
   ]
  },
  {
   "cell_type": "code",
   "execution_count": 37,
   "id": "986dcdb4-1511-408c-88d9-6604df852dec",
   "metadata": {},
   "outputs": [],
   "source": [
    "out_of_sample.lulc.replace([202,203],202,inplace=True) # water\n",
    "out_of_sample.lulc.replace([302,401,301,403,404],302,inplace=True) # residential area"
   ]
  },
  {
   "cell_type": "code",
   "execution_count": 38,
   "id": "77bf9a08-394b-4ec4-888c-8be4b4f0835f",
   "metadata": {},
   "outputs": [
    {
     "data": {
      "text/plain": [
       "array([306, 305, 304, 307, 303, 302, 202, 501])"
      ]
     },
     "execution_count": 38,
     "metadata": {},
     "output_type": "execute_result"
    }
   ],
   "source": [
    "out_of_sample.lulc.unique()"
   ]
  },
  {
   "cell_type": "code",
   "execution_count": 39,
   "id": "6a90f605-a553-4c0a-a677-69be09c18d16",
   "metadata": {},
   "outputs": [],
   "source": [
    "labels=[305,303,304,306,307,302,202,501]\n",
    "codes=[1,2,3,4,5,6,7,8]\n",
    "labels_dict = {k:i for i,k in zip(codes,labels)}\n",
    "out_of_sample.lulc = out_of_sample.lulc.map(labels_dict)"
   ]
  },
  {
   "cell_type": "code",
   "execution_count": 40,
   "id": "1bcc91cb-1660-4d2b-a18e-3b8f6591cf5a",
   "metadata": {},
   "outputs": [
    {
     "data": {
      "text/plain": [
       "array([4, 1, 3, 5, 2, 6, 7, 8])"
      ]
     },
     "execution_count": 40,
     "metadata": {},
     "output_type": "execute_result"
    }
   ],
   "source": [
    "out_of_sample.lulc.unique()"
   ]
  },
  {
   "cell_type": "code",
   "execution_count": 41,
   "id": "4a637aca-eeef-4f8f-b1a7-76bbf7d68b2d",
   "metadata": {},
   "outputs": [],
   "source": [
    "out_of_sample.to_parquet('../features/testing_data_ee_LULC.parquet')"
   ]
  },
  {
   "cell_type": "code",
   "execution_count": 42,
   "id": "5c76edb4-81b0-41a9-a589-0150d8f07a9a",
   "metadata": {},
   "outputs": [
    {
     "data": {
      "text/plain": [
       "(1243150, 13)"
      ]
     },
     "execution_count": 42,
     "metadata": {},
     "output_type": "execute_result"
    }
   ],
   "source": [
    "out_of_sample.shape"
   ]
  },
  {
   "cell_type": "code",
   "execution_count": null,
   "id": "dd916c8f-839d-44f7-832f-9eabb6441d10",
   "metadata": {},
   "outputs": [],
   "source": []
  }
 ],
 "metadata": {
  "kernelspec": {
   "display_name": "Python 3",
   "language": "python",
   "name": "python3"
  },
  "language_info": {
   "codemirror_mode": {
    "name": "ipython",
    "version": 3
   },
   "file_extension": ".py",
   "mimetype": "text/x-python",
   "name": "python",
   "nbconvert_exporter": "python",
   "pygments_lexer": "ipython3",
   "version": "3.7.4"
  }
 },
 "nbformat": 4,
 "nbformat_minor": 5
}
